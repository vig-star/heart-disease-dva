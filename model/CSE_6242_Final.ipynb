{
  "cells": [
    {
      "cell_type": "code",
      "execution_count": 56,
      "metadata": {
        "id": "lFdUNlCC1MVN"
      },
      "outputs": [],
      "source": [
        "from google.colab import drive\n",
        "import os\n",
        "import pandas\n",
        "import seaborn\n",
        "import numpy as np\n",
        "import matplotlib.pyplot as plt\n",
        "import sklearn\n",
        "from sklearn.model_selection import cross_val_score, GridSearchCV, cross_validate, train_test_split\n",
        "from sklearn.metrics import accuracy_score, classification_report\n",
        "from sklearn.svm import SVC\n",
        "from sklearn.linear_model import LinearRegression\n",
        "from sklearn.neural_network import MLPClassifier\n",
        "from sklearn.ensemble import RandomForestClassifier\n",
        "from sklearn.preprocessing import StandardScaler, normalize, LabelEncoder\n",
        "from sklearn.decomposition import PCA\n",
        "from sklearn.impute import SimpleImputer\n",
        "from torch.nn.functional import softmax\n",
        "from sklearn.utils.random import sample_without_replacement\n",
        "import torch\n",
        "import joblib"
      ]
    },
    {
      "cell_type": "code",
      "execution_count": 57,
      "metadata": {
        "colab": {
          "base_uri": "https://localhost:8080/"
        },
        "id": "eRnGVEu7hFpS",
        "outputId": "b77fb503-411c-426b-ed4d-2d41d3c55788"
      },
      "outputs": [
        {
          "output_type": "stream",
          "name": "stdout",
          "text": [
            "1.2.2 1.4.0 2.0.3\n"
          ]
        }
      ],
      "source": [
        "print(sklearn.__version__, joblib.__version__, pandas.__version__)"
      ]
    },
    {
      "cell_type": "code",
      "execution_count": 58,
      "metadata": {
        "colab": {
          "base_uri": "https://localhost:8080/"
        },
        "id": "MBAFtPeL1z0L",
        "outputId": "6f6090a2-e45b-4f3d-efb5-ca874d2a14dd"
      },
      "outputs": [
        {
          "output_type": "stream",
          "name": "stdout",
          "text": [
            "Mounted at /content/gdrive\n"
          ]
        }
      ],
      "source": [
        "drive.mount('/content/gdrive', force_remount=True)\n",
        "os.environ['CONFIG_DIR'] = '/content/gdrive/MyDrive/CSE 6242 Project'"
      ]
    },
    {
      "cell_type": "code",
      "execution_count": 59,
      "metadata": {
        "colab": {
          "base_uri": "https://localhost:8080/"
        },
        "id": "SlpVnpvS2t0i",
        "outputId": "ed912a90-3702-457d-9f61-0bc4ab762af2"
      },
      "outputs": [
        {
          "output_type": "stream",
          "name": "stdout",
          "text": [
            "Index(['State', 'Sex', 'GeneralHealth', 'PhysicalHealthDays',\n",
            "       'MentalHealthDays', 'LastCheckupTime', 'PhysicalActivities',\n",
            "       'SleepHours', 'RemovedTeeth', 'HadHeartAttack', 'HadAngina',\n",
            "       'HadStroke', 'HadAsthma', 'HadSkinCancer', 'HadCOPD',\n",
            "       'HadDepressiveDisorder', 'HadKidneyDisease', 'HadArthritis',\n",
            "       'HadDiabetes', 'DeafOrHardOfHearing', 'BlindOrVisionDifficulty',\n",
            "       'DifficultyConcentrating', 'DifficultyWalking',\n",
            "       'DifficultyDressingBathing', 'DifficultyErrands', 'SmokerStatus',\n",
            "       'ECigaretteUsage', 'ChestScan', 'RaceEthnicityCategory', 'AgeCategory',\n",
            "       'HeightInMeters', 'WeightInKilograms', 'BMI', 'AlcoholDrinkers',\n",
            "       'HIVTesting', 'FluVaxLast12', 'PneumoVaxEver', 'TetanusLast10Tdap',\n",
            "       'HighRiskLastYear', 'CovidPos'],\n",
            "      dtype='object')\n"
          ]
        }
      ],
      "source": [
        "raw = pandas.read_csv(os.environ[\"CONFIG_DIR\"] + \"/heart_2022_no_nans.csv\")\n",
        "raw.head(5)\n",
        "print(raw.columns)"
      ]
    },
    {
      "cell_type": "code",
      "execution_count": 60,
      "metadata": {
        "colab": {
          "base_uri": "https://localhost:8080/"
        },
        "id": "TN7d_f4n6LQy",
        "outputId": "3b264209-f619-4305-dec5-04d45c5e8a39"
      },
      "outputs": [
        {
          "output_type": "stream",
          "name": "stdout",
          "text": [
            "Index(['State', 'Sex', 'GeneralHealth', 'PhysicalHealthDays',\n",
            "       'MentalHealthDays', 'LastCheckupTime', 'PhysicalActivities',\n",
            "       'SleepHours', 'HadHeartAttack', 'HadAngina', 'HadStroke', 'HadAsthma',\n",
            "       'HadSkinCancer', 'HadCOPD', 'HadDepressiveDisorder', 'HadKidneyDisease',\n",
            "       'HadArthritis', 'HadDiabetes', 'DifficultyConcentrating',\n",
            "       'SmokerStatus', 'ECigaretteUsage', 'ChestScan', 'RaceEthnicityCategory',\n",
            "       'AgeCategory', 'HeightInMeters', 'WeightInKilograms', 'BMI',\n",
            "       'AlcoholDrinkers', 'HIVTesting', 'FluVaxLast12', 'PneumoVaxEver',\n",
            "       'TetanusLast10Tdap', 'HighRiskLastYear', 'CovidPos'],\n",
            "      dtype='object')\n"
          ]
        }
      ],
      "source": [
        "unimportant_features = [\"RemovedTeeth\", \"DeafOrHardOfHearing\", \"BlindOrVisionDifficulty\", \"DifficultyDressingBathing\", \\\n",
        "                        \"DifficultyErrands\", \"DifficultyWalking\"]\n",
        "raw = raw.drop(unimportant_features, axis=1)\n",
        "print(raw.columns)"
      ]
    },
    {
      "cell_type": "code",
      "execution_count": 61,
      "metadata": {
        "id": "v3M6WBGy8NkF"
      },
      "outputs": [],
      "source": [
        "y = raw[\"HadHeartAttack\"]\n",
        "X = raw.drop(\"HadHeartAttack\", axis=1)\n",
        "encoder = LabelEncoder()\n",
        "y = encoder.fit_transform(y)\n",
        "\n",
        "for i in X.columns:\n",
        "  X[i] = encoder.fit_transform(X[i])"
      ]
    },
    {
      "cell_type": "code",
      "execution_count": 62,
      "metadata": {
        "colab": {
          "base_uri": "https://localhost:8080/",
          "height": 255
        },
        "id": "m7T-7x39859O",
        "outputId": "5dd503dc-8e20-488c-96c5-4bb115f86ee9"
      },
      "outputs": [
        {
          "output_type": "execute_result",
          "data": {
            "text/plain": [
              "   State  Sex  GeneralHealth  PhysicalHealthDays  MentalHealthDays  \\\n",
              "0      0    0              4                   4                 0   \n",
              "1      0    1              4                   0                 0   \n",
              "2      0    1              4                   0                 0   \n",
              "3      0    0              1                   5                 0   \n",
              "4      0    0              2                   3                15   \n",
              "\n",
              "   LastCheckupTime  PhysicalActivities  SleepHours  HadAngina  HadStroke  ...  \\\n",
              "0                3                   1           8          0          0  ...   \n",
              "1                3                   1           5          0          0  ...   \n",
              "2                3                   0           7          0          0  ...   \n",
              "3                3                   1           8          0          0  ...   \n",
              "4                3                   1           4          0          0  ...   \n",
              "\n",
              "   HeightInMeters  WeightInKilograms   BMI  AlcoholDrinkers  HIVTesting  \\\n",
              "0              47                121  1191                0           0   \n",
              "1              65                196  1382                0           0   \n",
              "2              72                238  1514                1           0   \n",
              "3              57                181  1482                0           0   \n",
              "4              42                146  1635                0           0   \n",
              "\n",
              "   FluVaxLast12  PneumoVaxEver  TetanusLast10Tdap  HighRiskLastYear  CovidPos  \n",
              "0             1              1                  1                 0         0  \n",
              "1             1              1                  2                 0         0  \n",
              "2             0              1                  0                 0         2  \n",
              "3             1              1                  0                 0         2  \n",
              "4             1              1                  0                 0         0  \n",
              "\n",
              "[5 rows x 33 columns]"
            ],
            "text/html": [
              "\n",
              "  <div id=\"df-b8e28368-f661-4b19-963d-10a6750d19fe\" class=\"colab-df-container\">\n",
              "    <div>\n",
              "<style scoped>\n",
              "    .dataframe tbody tr th:only-of-type {\n",
              "        vertical-align: middle;\n",
              "    }\n",
              "\n",
              "    .dataframe tbody tr th {\n",
              "        vertical-align: top;\n",
              "    }\n",
              "\n",
              "    .dataframe thead th {\n",
              "        text-align: right;\n",
              "    }\n",
              "</style>\n",
              "<table border=\"1\" class=\"dataframe\">\n",
              "  <thead>\n",
              "    <tr style=\"text-align: right;\">\n",
              "      <th></th>\n",
              "      <th>State</th>\n",
              "      <th>Sex</th>\n",
              "      <th>GeneralHealth</th>\n",
              "      <th>PhysicalHealthDays</th>\n",
              "      <th>MentalHealthDays</th>\n",
              "      <th>LastCheckupTime</th>\n",
              "      <th>PhysicalActivities</th>\n",
              "      <th>SleepHours</th>\n",
              "      <th>HadAngina</th>\n",
              "      <th>HadStroke</th>\n",
              "      <th>...</th>\n",
              "      <th>HeightInMeters</th>\n",
              "      <th>WeightInKilograms</th>\n",
              "      <th>BMI</th>\n",
              "      <th>AlcoholDrinkers</th>\n",
              "      <th>HIVTesting</th>\n",
              "      <th>FluVaxLast12</th>\n",
              "      <th>PneumoVaxEver</th>\n",
              "      <th>TetanusLast10Tdap</th>\n",
              "      <th>HighRiskLastYear</th>\n",
              "      <th>CovidPos</th>\n",
              "    </tr>\n",
              "  </thead>\n",
              "  <tbody>\n",
              "    <tr>\n",
              "      <th>0</th>\n",
              "      <td>0</td>\n",
              "      <td>0</td>\n",
              "      <td>4</td>\n",
              "      <td>4</td>\n",
              "      <td>0</td>\n",
              "      <td>3</td>\n",
              "      <td>1</td>\n",
              "      <td>8</td>\n",
              "      <td>0</td>\n",
              "      <td>0</td>\n",
              "      <td>...</td>\n",
              "      <td>47</td>\n",
              "      <td>121</td>\n",
              "      <td>1191</td>\n",
              "      <td>0</td>\n",
              "      <td>0</td>\n",
              "      <td>1</td>\n",
              "      <td>1</td>\n",
              "      <td>1</td>\n",
              "      <td>0</td>\n",
              "      <td>0</td>\n",
              "    </tr>\n",
              "    <tr>\n",
              "      <th>1</th>\n",
              "      <td>0</td>\n",
              "      <td>1</td>\n",
              "      <td>4</td>\n",
              "      <td>0</td>\n",
              "      <td>0</td>\n",
              "      <td>3</td>\n",
              "      <td>1</td>\n",
              "      <td>5</td>\n",
              "      <td>0</td>\n",
              "      <td>0</td>\n",
              "      <td>...</td>\n",
              "      <td>65</td>\n",
              "      <td>196</td>\n",
              "      <td>1382</td>\n",
              "      <td>0</td>\n",
              "      <td>0</td>\n",
              "      <td>1</td>\n",
              "      <td>1</td>\n",
              "      <td>2</td>\n",
              "      <td>0</td>\n",
              "      <td>0</td>\n",
              "    </tr>\n",
              "    <tr>\n",
              "      <th>2</th>\n",
              "      <td>0</td>\n",
              "      <td>1</td>\n",
              "      <td>4</td>\n",
              "      <td>0</td>\n",
              "      <td>0</td>\n",
              "      <td>3</td>\n",
              "      <td>0</td>\n",
              "      <td>7</td>\n",
              "      <td>0</td>\n",
              "      <td>0</td>\n",
              "      <td>...</td>\n",
              "      <td>72</td>\n",
              "      <td>238</td>\n",
              "      <td>1514</td>\n",
              "      <td>1</td>\n",
              "      <td>0</td>\n",
              "      <td>0</td>\n",
              "      <td>1</td>\n",
              "      <td>0</td>\n",
              "      <td>0</td>\n",
              "      <td>2</td>\n",
              "    </tr>\n",
              "    <tr>\n",
              "      <th>3</th>\n",
              "      <td>0</td>\n",
              "      <td>0</td>\n",
              "      <td>1</td>\n",
              "      <td>5</td>\n",
              "      <td>0</td>\n",
              "      <td>3</td>\n",
              "      <td>1</td>\n",
              "      <td>8</td>\n",
              "      <td>0</td>\n",
              "      <td>0</td>\n",
              "      <td>...</td>\n",
              "      <td>57</td>\n",
              "      <td>181</td>\n",
              "      <td>1482</td>\n",
              "      <td>0</td>\n",
              "      <td>0</td>\n",
              "      <td>1</td>\n",
              "      <td>1</td>\n",
              "      <td>0</td>\n",
              "      <td>0</td>\n",
              "      <td>2</td>\n",
              "    </tr>\n",
              "    <tr>\n",
              "      <th>4</th>\n",
              "      <td>0</td>\n",
              "      <td>0</td>\n",
              "      <td>2</td>\n",
              "      <td>3</td>\n",
              "      <td>15</td>\n",
              "      <td>3</td>\n",
              "      <td>1</td>\n",
              "      <td>4</td>\n",
              "      <td>0</td>\n",
              "      <td>0</td>\n",
              "      <td>...</td>\n",
              "      <td>42</td>\n",
              "      <td>146</td>\n",
              "      <td>1635</td>\n",
              "      <td>0</td>\n",
              "      <td>0</td>\n",
              "      <td>1</td>\n",
              "      <td>1</td>\n",
              "      <td>0</td>\n",
              "      <td>0</td>\n",
              "      <td>0</td>\n",
              "    </tr>\n",
              "  </tbody>\n",
              "</table>\n",
              "<p>5 rows × 33 columns</p>\n",
              "</div>\n",
              "    <div class=\"colab-df-buttons\">\n",
              "\n",
              "  <div class=\"colab-df-container\">\n",
              "    <button class=\"colab-df-convert\" onclick=\"convertToInteractive('df-b8e28368-f661-4b19-963d-10a6750d19fe')\"\n",
              "            title=\"Convert this dataframe to an interactive table.\"\n",
              "            style=\"display:none;\">\n",
              "\n",
              "  <svg xmlns=\"http://www.w3.org/2000/svg\" height=\"24px\" viewBox=\"0 -960 960 960\">\n",
              "    <path d=\"M120-120v-720h720v720H120Zm60-500h600v-160H180v160Zm220 220h160v-160H400v160Zm0 220h160v-160H400v160ZM180-400h160v-160H180v160Zm440 0h160v-160H620v160ZM180-180h160v-160H180v160Zm440 0h160v-160H620v160Z\"/>\n",
              "  </svg>\n",
              "    </button>\n",
              "\n",
              "  <style>\n",
              "    .colab-df-container {\n",
              "      display:flex;\n",
              "      gap: 12px;\n",
              "    }\n",
              "\n",
              "    .colab-df-convert {\n",
              "      background-color: #E8F0FE;\n",
              "      border: none;\n",
              "      border-radius: 50%;\n",
              "      cursor: pointer;\n",
              "      display: none;\n",
              "      fill: #1967D2;\n",
              "      height: 32px;\n",
              "      padding: 0 0 0 0;\n",
              "      width: 32px;\n",
              "    }\n",
              "\n",
              "    .colab-df-convert:hover {\n",
              "      background-color: #E2EBFA;\n",
              "      box-shadow: 0px 1px 2px rgba(60, 64, 67, 0.3), 0px 1px 3px 1px rgba(60, 64, 67, 0.15);\n",
              "      fill: #174EA6;\n",
              "    }\n",
              "\n",
              "    .colab-df-buttons div {\n",
              "      margin-bottom: 4px;\n",
              "    }\n",
              "\n",
              "    [theme=dark] .colab-df-convert {\n",
              "      background-color: #3B4455;\n",
              "      fill: #D2E3FC;\n",
              "    }\n",
              "\n",
              "    [theme=dark] .colab-df-convert:hover {\n",
              "      background-color: #434B5C;\n",
              "      box-shadow: 0px 1px 3px 1px rgba(0, 0, 0, 0.15);\n",
              "      filter: drop-shadow(0px 1px 2px rgba(0, 0, 0, 0.3));\n",
              "      fill: #FFFFFF;\n",
              "    }\n",
              "  </style>\n",
              "\n",
              "    <script>\n",
              "      const buttonEl =\n",
              "        document.querySelector('#df-b8e28368-f661-4b19-963d-10a6750d19fe button.colab-df-convert');\n",
              "      buttonEl.style.display =\n",
              "        google.colab.kernel.accessAllowed ? 'block' : 'none';\n",
              "\n",
              "      async function convertToInteractive(key) {\n",
              "        const element = document.querySelector('#df-b8e28368-f661-4b19-963d-10a6750d19fe');\n",
              "        const dataTable =\n",
              "          await google.colab.kernel.invokeFunction('convertToInteractive',\n",
              "                                                    [key], {});\n",
              "        if (!dataTable) return;\n",
              "\n",
              "        const docLinkHtml = 'Like what you see? Visit the ' +\n",
              "          '<a target=\"_blank\" href=https://colab.research.google.com/notebooks/data_table.ipynb>data table notebook</a>'\n",
              "          + ' to learn more about interactive tables.';\n",
              "        element.innerHTML = '';\n",
              "        dataTable['output_type'] = 'display_data';\n",
              "        await google.colab.output.renderOutput(dataTable, element);\n",
              "        const docLink = document.createElement('div');\n",
              "        docLink.innerHTML = docLinkHtml;\n",
              "        element.appendChild(docLink);\n",
              "      }\n",
              "    </script>\n",
              "  </div>\n",
              "\n",
              "\n",
              "<div id=\"df-ed7c16c0-3b75-4132-a3ea-d3805e6fc4d9\">\n",
              "  <button class=\"colab-df-quickchart\" onclick=\"quickchart('df-ed7c16c0-3b75-4132-a3ea-d3805e6fc4d9')\"\n",
              "            title=\"Suggest charts\"\n",
              "            style=\"display:none;\">\n",
              "\n",
              "<svg xmlns=\"http://www.w3.org/2000/svg\" height=\"24px\"viewBox=\"0 0 24 24\"\n",
              "     width=\"24px\">\n",
              "    <g>\n",
              "        <path d=\"M19 3H5c-1.1 0-2 .9-2 2v14c0 1.1.9 2 2 2h14c1.1 0 2-.9 2-2V5c0-1.1-.9-2-2-2zM9 17H7v-7h2v7zm4 0h-2V7h2v10zm4 0h-2v-4h2v4z\"/>\n",
              "    </g>\n",
              "</svg>\n",
              "  </button>\n",
              "\n",
              "<style>\n",
              "  .colab-df-quickchart {\n",
              "      --bg-color: #E8F0FE;\n",
              "      --fill-color: #1967D2;\n",
              "      --hover-bg-color: #E2EBFA;\n",
              "      --hover-fill-color: #174EA6;\n",
              "      --disabled-fill-color: #AAA;\n",
              "      --disabled-bg-color: #DDD;\n",
              "  }\n",
              "\n",
              "  [theme=dark] .colab-df-quickchart {\n",
              "      --bg-color: #3B4455;\n",
              "      --fill-color: #D2E3FC;\n",
              "      --hover-bg-color: #434B5C;\n",
              "      --hover-fill-color: #FFFFFF;\n",
              "      --disabled-bg-color: #3B4455;\n",
              "      --disabled-fill-color: #666;\n",
              "  }\n",
              "\n",
              "  .colab-df-quickchart {\n",
              "    background-color: var(--bg-color);\n",
              "    border: none;\n",
              "    border-radius: 50%;\n",
              "    cursor: pointer;\n",
              "    display: none;\n",
              "    fill: var(--fill-color);\n",
              "    height: 32px;\n",
              "    padding: 0;\n",
              "    width: 32px;\n",
              "  }\n",
              "\n",
              "  .colab-df-quickchart:hover {\n",
              "    background-color: var(--hover-bg-color);\n",
              "    box-shadow: 0 1px 2px rgba(60, 64, 67, 0.3), 0 1px 3px 1px rgba(60, 64, 67, 0.15);\n",
              "    fill: var(--button-hover-fill-color);\n",
              "  }\n",
              "\n",
              "  .colab-df-quickchart-complete:disabled,\n",
              "  .colab-df-quickchart-complete:disabled:hover {\n",
              "    background-color: var(--disabled-bg-color);\n",
              "    fill: var(--disabled-fill-color);\n",
              "    box-shadow: none;\n",
              "  }\n",
              "\n",
              "  .colab-df-spinner {\n",
              "    border: 2px solid var(--fill-color);\n",
              "    border-color: transparent;\n",
              "    border-bottom-color: var(--fill-color);\n",
              "    animation:\n",
              "      spin 1s steps(1) infinite;\n",
              "  }\n",
              "\n",
              "  @keyframes spin {\n",
              "    0% {\n",
              "      border-color: transparent;\n",
              "      border-bottom-color: var(--fill-color);\n",
              "      border-left-color: var(--fill-color);\n",
              "    }\n",
              "    20% {\n",
              "      border-color: transparent;\n",
              "      border-left-color: var(--fill-color);\n",
              "      border-top-color: var(--fill-color);\n",
              "    }\n",
              "    30% {\n",
              "      border-color: transparent;\n",
              "      border-left-color: var(--fill-color);\n",
              "      border-top-color: var(--fill-color);\n",
              "      border-right-color: var(--fill-color);\n",
              "    }\n",
              "    40% {\n",
              "      border-color: transparent;\n",
              "      border-right-color: var(--fill-color);\n",
              "      border-top-color: var(--fill-color);\n",
              "    }\n",
              "    60% {\n",
              "      border-color: transparent;\n",
              "      border-right-color: var(--fill-color);\n",
              "    }\n",
              "    80% {\n",
              "      border-color: transparent;\n",
              "      border-right-color: var(--fill-color);\n",
              "      border-bottom-color: var(--fill-color);\n",
              "    }\n",
              "    90% {\n",
              "      border-color: transparent;\n",
              "      border-bottom-color: var(--fill-color);\n",
              "    }\n",
              "  }\n",
              "</style>\n",
              "\n",
              "  <script>\n",
              "    async function quickchart(key) {\n",
              "      const quickchartButtonEl =\n",
              "        document.querySelector('#' + key + ' button');\n",
              "      quickchartButtonEl.disabled = true;  // To prevent multiple clicks.\n",
              "      quickchartButtonEl.classList.add('colab-df-spinner');\n",
              "      try {\n",
              "        const charts = await google.colab.kernel.invokeFunction(\n",
              "            'suggestCharts', [key], {});\n",
              "      } catch (error) {\n",
              "        console.error('Error during call to suggestCharts:', error);\n",
              "      }\n",
              "      quickchartButtonEl.classList.remove('colab-df-spinner');\n",
              "      quickchartButtonEl.classList.add('colab-df-quickchart-complete');\n",
              "    }\n",
              "    (() => {\n",
              "      let quickchartButtonEl =\n",
              "        document.querySelector('#df-ed7c16c0-3b75-4132-a3ea-d3805e6fc4d9 button');\n",
              "      quickchartButtonEl.style.display =\n",
              "        google.colab.kernel.accessAllowed ? 'block' : 'none';\n",
              "    })();\n",
              "  </script>\n",
              "</div>\n",
              "\n",
              "    </div>\n",
              "  </div>\n"
            ],
            "application/vnd.google.colaboratory.intrinsic+json": {
              "type": "dataframe",
              "variable_name": "X"
            }
          },
          "metadata": {},
          "execution_count": 62
        }
      ],
      "source": [
        "X.head(5)"
      ]
    },
    {
      "cell_type": "code",
      "execution_count": 63,
      "metadata": {
        "colab": {
          "base_uri": "https://localhost:8080/"
        },
        "id": "qg4gDjFJ7bG0",
        "outputId": "e61a9329-b978-4241-ece2-c4d7403a1d07"
      },
      "outputs": [
        {
          "output_type": "stream",
          "name": "stdout",
          "text": [
            "(246022, 17)\n",
            "[[-4.32092805e+01  3.45796889e+01  2.73373619e+01 -3.47967304e+00\n",
            "  -3.44990343e+00 -1.69497835e+00  5.27003554e-02 -1.82372101e+00\n",
            "   1.83638934e+00 -1.02194930e-01 -2.88293325e-01  3.80487711e-01\n",
            "  -3.34996219e-01 -2.97999686e-01 -3.19708700e-01 -2.78907250e-01\n",
            "   2.68788740e-01]\n",
            " [ 1.54571121e+02 -2.29889621e+01  2.76998840e+01 -5.81088935e+00\n",
            "  -8.52888153e-01 -3.59683092e+00 -7.45313702e-01 -1.63843694e+00\n",
            "  -1.23065724e+00 -2.98288129e-01  6.48550792e-01  5.11334773e-01\n",
            "  -4.26155085e-01 -6.69844812e-01  1.51582522e+00 -2.71786514e-01\n",
            "  -6.35183288e-02]\n",
            " [ 2.90234383e+02 -5.17704559e+01  2.78958690e+01 -5.62993385e+00\n",
            "  -9.68365358e-01 -4.86820557e+00  9.36365180e-01 -1.55283582e+00\n",
            "   6.35883453e-01  4.05213674e-01 -9.40366835e-01 -4.24154989e-01\n",
            "   1.81066913e+00  6.29991209e-02 -5.14579579e-01 -1.81742314e-01\n",
            "   5.80825645e-03]\n",
            " [ 2.52465656e+02  3.68708695e+00  2.76125541e+01 -2.84832238e+00\n",
            "  -4.48484979e+00 -4.70680274e+00 -7.91809236e-01  1.23378033e+00\n",
            "   1.77515810e+00 -3.37272140e-01 -6.27733099e-01 -1.41576567e+00\n",
            "   1.45412872e+00  2.18537291e-01 -5.27407156e-01  1.78261838e-01\n",
            "   3.57415250e-01]\n",
            " [ 4.00988456e+02  5.67872655e+01  2.74525415e+01  4.47170845e+00\n",
            "   7.88353349e+00 -6.21536557e+00 -1.85117208e+00  2.50530070e-01\n",
            "  -1.90531222e+00 -8.97631570e-01 -9.65997412e-01 -1.18905630e+00\n",
            "  -6.28804778e-01 -6.42462570e-02 -5.86893553e-01  9.87271815e-02\n",
            "   2.05257366e-02]]\n"
          ]
        }
      ],
      "source": [
        "PCA_COMPONENTS = 17\n",
        "\n",
        "pca = PCA(n_components=PCA_COMPONENTS).fit(X)\n",
        "pca_X = pca.transform(X)\n",
        "print(pca_X.shape)\n",
        "print(pca_X[0:5, :])"
      ]
    },
    {
      "cell_type": "markdown",
      "metadata": {
        "id": "6dCNFqZ1Fz5z"
      },
      "source": [
        "## WITHOUT PCA"
      ]
    },
    {
      "cell_type": "code",
      "execution_count": 64,
      "metadata": {
        "id": "xOWg636Y_QZ6"
      },
      "outputs": [],
      "source": [
        "X_train, X_test, y_train, y_test = train_test_split(X, y, train_size=0.7)"
      ]
    },
    {
      "cell_type": "code",
      "execution_count": 65,
      "metadata": {
        "id": "Bjj6bqz0-yoX"
      },
      "outputs": [],
      "source": [
        "ESTIMATORS = 32\n",
        "MAX_DEPTH = 5\n",
        "rf = RandomForestClassifier(n_estimators=ESTIMATORS, max_depth=MAX_DEPTH)\n",
        "rf = rf.fit(X_train, y_train)"
      ]
    },
    {
      "cell_type": "code",
      "execution_count": 66,
      "metadata": {
        "colab": {
          "base_uri": "https://localhost:8080/"
        },
        "id": "gpkOjPpPAJ-e",
        "outputId": "c3c07fad-7b23-4526-c67c-7928965c2d4c"
      },
      "outputs": [
        {
          "output_type": "stream",
          "name": "stdout",
          "text": [
            "Train Accuracy: 0.945132537816102\n",
            "Test Accuracy: 0.94610267318818\n"
          ]
        }
      ],
      "source": [
        "y_predict_train = rf.predict(X_train)\n",
        "y_predict_test = rf.predict(X_test)\n",
        "train_accuracy = accuracy_score(y_train, y_predict_train)\n",
        "test_accuracy = accuracy_score(y_test, y_predict_test)\n",
        "print(\"Train Accuracy: \" + str(train_accuracy))\n",
        "print(\"Test Accuracy: \" + str(test_accuracy))"
      ]
    },
    {
      "cell_type": "code",
      "execution_count": 67,
      "metadata": {
        "id": "K-YHDyffA0Ak"
      },
      "outputs": [],
      "source": [
        "depths = [5, 8, 10, 12]\n",
        "estimators = [32, 64, 100, 128]\n",
        "rf_gs = RandomForestClassifier()\n",
        "\n",
        "parameters = {\"max_depth\": depths, \"n_estimators\": estimators}\n",
        "gs = GridSearchCV(rf_gs, parameters)\n",
        "gs = gs.fit(X_train, y_train)"
      ]
    },
    {
      "cell_type": "code",
      "execution_count": 68,
      "metadata": {
        "colab": {
          "base_uri": "https://localhost:8080/"
        },
        "id": "VwQuHcLABaOl",
        "outputId": "44801f61-64d8-4c87-d7a6-0d958f699073"
      },
      "outputs": [
        {
          "output_type": "stream",
          "name": "stdout",
          "text": [
            "Train Accuracy: 0.9596608890050228\n",
            "Test Accuracy: 0.9484195266031678\n"
          ]
        }
      ],
      "source": [
        "y_predict_train_gs = gs.predict(X_train)\n",
        "y_predict_test_gs = gs.predict(X_test)\n",
        "train_accuracy_gs = accuracy_score(y_train, y_predict_train_gs)\n",
        "test_accuracy_gs = accuracy_score(y_test, y_predict_test_gs)\n",
        "print(\"Train Accuracy: \" + str(train_accuracy_gs))\n",
        "print(\"Test Accuracy: \" + str(test_accuracy_gs))"
      ]
    },
    {
      "cell_type": "code",
      "execution_count": 69,
      "metadata": {
        "colab": {
          "base_uri": "https://localhost:8080/"
        },
        "id": "51WfSsrnEzj_",
        "outputId": "3712bdca-5a5f-4457-8746-f789df693199"
      },
      "outputs": [
        {
          "output_type": "stream",
          "name": "stdout",
          "text": [
            "{'max_depth': 12, 'n_estimators': 128}\n"
          ]
        }
      ],
      "source": [
        "print(gs.best_params_)"
      ]
    },
    {
      "cell_type": "code",
      "execution_count": 70,
      "metadata": {
        "colab": {
          "base_uri": "https://localhost:8080/"
        },
        "id": "1aoJ_fsvF3PI",
        "outputId": "f94ec46a-7dd9-417e-d654-778108e7a94b"
      },
      "outputs": [
        {
          "output_type": "stream",
          "name": "stdout",
          "text": [
            "{'State': 0.02927371859550476, 'Sex': 0.029715562239289284, 'GeneralHealth': 0.02967844344675541, 'PhysicalHealthDays': 0.030194193124771118, 'MentalHealthDays': 0.029275700449943542, 'LastCheckupTime': 0.02930067479610443, 'PhysicalActivities': 0.02936900593340397, 'SleepHours': 0.029305562376976013, 'HadAngina': 0.05176640674471855, 'HadStroke': 0.031881485134363174, 'HadAsthma': 0.02925657294690609, 'HadSkinCancer': 0.02924789860844612, 'HadCOPD': 0.030507760122418404, 'HadDepressiveDisorder': 0.029234513640403748, 'HadKidneyDisease': 0.02967216819524765, 'HadArthritis': 0.02951102703809738, 'HadDiabetes': 0.029820343479514122, 'DifficultyConcentrating': 0.029269013553857803, 'SmokerStatus': 0.02957776002585888, 'ECigaretteUsage': 0.029239028692245483, 'ChestScan': 0.03136112540960312, 'RaceEthnicityCategory': 0.02924414351582527, 'AgeCategory': 0.03116634115576744, 'HeightInMeters': 0.029369773343205452, 'WeightInKilograms': 0.02927291765809059, 'BMI': 0.029271550476551056, 'AlcoholDrinkers': 0.029313135892152786, 'HIVTesting': 0.02924094721674919, 'FluVaxLast12': 0.029241105541586876, 'PneumoVaxEver': 0.029707906767725945, 'TetanusLast10Tdap': 0.029250111430883408, 'HighRiskLastYear': 0.029232051223516464, 'CovidPos': 0.029232051223516464}\n"
          ]
        }
      ],
      "source": [
        "feature_imp = rf.feature_importances_\n",
        "feature_imp_sm = softmax(torch.Tensor(feature_imp), dim=0)\n",
        "mapping = {}\n",
        "for i, value in enumerate(X_train.columns):\n",
        "  mapping[value] = feature_imp_sm[i].item()\n",
        "\n",
        "print(mapping)"
      ]
    },
    {
      "cell_type": "markdown",
      "metadata": {
        "id": "29Bh9xqUHSD8"
      },
      "source": [
        "# WITH PCA"
      ]
    },
    {
      "cell_type": "code",
      "execution_count": 71,
      "metadata": {
        "colab": {
          "base_uri": "https://localhost:8080/"
        },
        "id": "3dDR4EgUHRz3",
        "outputId": "e9f0aedf-8749-42a3-fbe9-2fb7ad000fd8"
      },
      "outputs": [
        {
          "output_type": "stream",
          "name": "stdout",
          "text": [
            "Train Accuracy: 0.9452777051940888\n",
            "Test Accuracy: 0.9456555611256385\n"
          ]
        }
      ],
      "source": [
        "X_train, X_test, y_train, y_test = train_test_split(pca_X, y, train_size=0.7)\n",
        "ESTIMATORS = 32\n",
        "MAX_DEPTH = 5\n",
        "rf = RandomForestClassifier(n_estimators=ESTIMATORS, max_depth=MAX_DEPTH)\n",
        "rf = rf.fit(X_train, y_train)\n",
        "y_predict_train = rf.predict(X_train)\n",
        "y_predict_test = rf.predict(X_test)\n",
        "train_accuracy = accuracy_score(y_train, y_predict_train)\n",
        "test_accuracy = accuracy_score(y_test, y_predict_test)\n",
        "print(\"Train Accuracy: \" + str(train_accuracy))\n",
        "print(\"Test Accuracy: \" + str(test_accuracy))"
      ]
    },
    {
      "cell_type": "code",
      "execution_count": 72,
      "metadata": {
        "colab": {
          "base_uri": "https://localhost:8080/"
        },
        "id": "0wjKsluvIEjf",
        "outputId": "a3a830d8-961e-4779-9765-36d5d7442735"
      },
      "outputs": [
        {
          "output_type": "stream",
          "name": "stdout",
          "text": [
            "0.9452777051940888\n"
          ]
        }
      ],
      "source": [
        "neg = 0\n",
        "for i in range(y_train.shape[0]):\n",
        "  if y_train[i] == 0:\n",
        "    neg += 1\n",
        "\n",
        "print(neg / y_train.shape[0])\n",
        "\n",
        "for i in range(y_predict_test.shape[0]):\n",
        "  if y_predict_test[i] == 1:\n",
        "    print(\"here\")"
      ]
    },
    {
      "cell_type": "markdown",
      "metadata": {
        "id": "3QXKklbuJZve"
      },
      "source": [
        "# ~94% OF THE DATA IS 0 SO MODEL ALWAYS PREDICTS 0\n",
        "\n",
        "We are sampling 15000 data points with 0 label and taking all of the data points with 1 label. 232632 have 0 label, 13390."
      ]
    },
    {
      "cell_type": "code",
      "execution_count": 73,
      "metadata": {
        "colab": {
          "base_uri": "https://localhost:8080/",
          "height": 255
        },
        "id": "jW1CKaBtJHcR",
        "outputId": "004e0397-f68c-41df-cfd9-ba9784ae5df0"
      },
      "outputs": [
        {
          "output_type": "execute_result",
          "data": {
            "text/plain": [
              "   State  Sex  GeneralHealth  PhysicalHealthDays  MentalHealthDays  \\\n",
              "0      0    0              4                   4                 0   \n",
              "1      0    1              4                   0                 0   \n",
              "2      0    1              4                   0                 0   \n",
              "3      0    0              1                   5                 0   \n",
              "4      0    0              2                   3                15   \n",
              "\n",
              "   LastCheckupTime  PhysicalActivities  SleepHours  HadHeartAttack  HadAngina  \\\n",
              "0                3                   1           8               0          0   \n",
              "1                3                   1           5               0          0   \n",
              "2                3                   0           7               0          0   \n",
              "3                3                   1           8               0          0   \n",
              "4                3                   1           4               0          0   \n",
              "\n",
              "   ...  HeightInMeters  WeightInKilograms   BMI  AlcoholDrinkers  HIVTesting  \\\n",
              "0  ...              47                121  1191                0           0   \n",
              "1  ...              65                196  1382                0           0   \n",
              "2  ...              72                238  1514                1           0   \n",
              "3  ...              57                181  1482                0           0   \n",
              "4  ...              42                146  1635                0           0   \n",
              "\n",
              "   FluVaxLast12  PneumoVaxEver  TetanusLast10Tdap  HighRiskLastYear  CovidPos  \n",
              "0             1              1                  1                 0         0  \n",
              "1             1              1                  2                 0         0  \n",
              "2             0              1                  0                 0         2  \n",
              "3             1              1                  0                 0         2  \n",
              "4             1              1                  0                 0         0  \n",
              "\n",
              "[5 rows x 34 columns]"
            ],
            "text/html": [
              "\n",
              "  <div id=\"df-b9c58e27-d7f5-40bc-a94b-ad80595674fc\" class=\"colab-df-container\">\n",
              "    <div>\n",
              "<style scoped>\n",
              "    .dataframe tbody tr th:only-of-type {\n",
              "        vertical-align: middle;\n",
              "    }\n",
              "\n",
              "    .dataframe tbody tr th {\n",
              "        vertical-align: top;\n",
              "    }\n",
              "\n",
              "    .dataframe thead th {\n",
              "        text-align: right;\n",
              "    }\n",
              "</style>\n",
              "<table border=\"1\" class=\"dataframe\">\n",
              "  <thead>\n",
              "    <tr style=\"text-align: right;\">\n",
              "      <th></th>\n",
              "      <th>State</th>\n",
              "      <th>Sex</th>\n",
              "      <th>GeneralHealth</th>\n",
              "      <th>PhysicalHealthDays</th>\n",
              "      <th>MentalHealthDays</th>\n",
              "      <th>LastCheckupTime</th>\n",
              "      <th>PhysicalActivities</th>\n",
              "      <th>SleepHours</th>\n",
              "      <th>HadHeartAttack</th>\n",
              "      <th>HadAngina</th>\n",
              "      <th>...</th>\n",
              "      <th>HeightInMeters</th>\n",
              "      <th>WeightInKilograms</th>\n",
              "      <th>BMI</th>\n",
              "      <th>AlcoholDrinkers</th>\n",
              "      <th>HIVTesting</th>\n",
              "      <th>FluVaxLast12</th>\n",
              "      <th>PneumoVaxEver</th>\n",
              "      <th>TetanusLast10Tdap</th>\n",
              "      <th>HighRiskLastYear</th>\n",
              "      <th>CovidPos</th>\n",
              "    </tr>\n",
              "  </thead>\n",
              "  <tbody>\n",
              "    <tr>\n",
              "      <th>0</th>\n",
              "      <td>0</td>\n",
              "      <td>0</td>\n",
              "      <td>4</td>\n",
              "      <td>4</td>\n",
              "      <td>0</td>\n",
              "      <td>3</td>\n",
              "      <td>1</td>\n",
              "      <td>8</td>\n",
              "      <td>0</td>\n",
              "      <td>0</td>\n",
              "      <td>...</td>\n",
              "      <td>47</td>\n",
              "      <td>121</td>\n",
              "      <td>1191</td>\n",
              "      <td>0</td>\n",
              "      <td>0</td>\n",
              "      <td>1</td>\n",
              "      <td>1</td>\n",
              "      <td>1</td>\n",
              "      <td>0</td>\n",
              "      <td>0</td>\n",
              "    </tr>\n",
              "    <tr>\n",
              "      <th>1</th>\n",
              "      <td>0</td>\n",
              "      <td>1</td>\n",
              "      <td>4</td>\n",
              "      <td>0</td>\n",
              "      <td>0</td>\n",
              "      <td>3</td>\n",
              "      <td>1</td>\n",
              "      <td>5</td>\n",
              "      <td>0</td>\n",
              "      <td>0</td>\n",
              "      <td>...</td>\n",
              "      <td>65</td>\n",
              "      <td>196</td>\n",
              "      <td>1382</td>\n",
              "      <td>0</td>\n",
              "      <td>0</td>\n",
              "      <td>1</td>\n",
              "      <td>1</td>\n",
              "      <td>2</td>\n",
              "      <td>0</td>\n",
              "      <td>0</td>\n",
              "    </tr>\n",
              "    <tr>\n",
              "      <th>2</th>\n",
              "      <td>0</td>\n",
              "      <td>1</td>\n",
              "      <td>4</td>\n",
              "      <td>0</td>\n",
              "      <td>0</td>\n",
              "      <td>3</td>\n",
              "      <td>0</td>\n",
              "      <td>7</td>\n",
              "      <td>0</td>\n",
              "      <td>0</td>\n",
              "      <td>...</td>\n",
              "      <td>72</td>\n",
              "      <td>238</td>\n",
              "      <td>1514</td>\n",
              "      <td>1</td>\n",
              "      <td>0</td>\n",
              "      <td>0</td>\n",
              "      <td>1</td>\n",
              "      <td>0</td>\n",
              "      <td>0</td>\n",
              "      <td>2</td>\n",
              "    </tr>\n",
              "    <tr>\n",
              "      <th>3</th>\n",
              "      <td>0</td>\n",
              "      <td>0</td>\n",
              "      <td>1</td>\n",
              "      <td>5</td>\n",
              "      <td>0</td>\n",
              "      <td>3</td>\n",
              "      <td>1</td>\n",
              "      <td>8</td>\n",
              "      <td>0</td>\n",
              "      <td>0</td>\n",
              "      <td>...</td>\n",
              "      <td>57</td>\n",
              "      <td>181</td>\n",
              "      <td>1482</td>\n",
              "      <td>0</td>\n",
              "      <td>0</td>\n",
              "      <td>1</td>\n",
              "      <td>1</td>\n",
              "      <td>0</td>\n",
              "      <td>0</td>\n",
              "      <td>2</td>\n",
              "    </tr>\n",
              "    <tr>\n",
              "      <th>4</th>\n",
              "      <td>0</td>\n",
              "      <td>0</td>\n",
              "      <td>2</td>\n",
              "      <td>3</td>\n",
              "      <td>15</td>\n",
              "      <td>3</td>\n",
              "      <td>1</td>\n",
              "      <td>4</td>\n",
              "      <td>0</td>\n",
              "      <td>0</td>\n",
              "      <td>...</td>\n",
              "      <td>42</td>\n",
              "      <td>146</td>\n",
              "      <td>1635</td>\n",
              "      <td>0</td>\n",
              "      <td>0</td>\n",
              "      <td>1</td>\n",
              "      <td>1</td>\n",
              "      <td>0</td>\n",
              "      <td>0</td>\n",
              "      <td>0</td>\n",
              "    </tr>\n",
              "  </tbody>\n",
              "</table>\n",
              "<p>5 rows × 34 columns</p>\n",
              "</div>\n",
              "    <div class=\"colab-df-buttons\">\n",
              "\n",
              "  <div class=\"colab-df-container\">\n",
              "    <button class=\"colab-df-convert\" onclick=\"convertToInteractive('df-b9c58e27-d7f5-40bc-a94b-ad80595674fc')\"\n",
              "            title=\"Convert this dataframe to an interactive table.\"\n",
              "            style=\"display:none;\">\n",
              "\n",
              "  <svg xmlns=\"http://www.w3.org/2000/svg\" height=\"24px\" viewBox=\"0 -960 960 960\">\n",
              "    <path d=\"M120-120v-720h720v720H120Zm60-500h600v-160H180v160Zm220 220h160v-160H400v160Zm0 220h160v-160H400v160ZM180-400h160v-160H180v160Zm440 0h160v-160H620v160ZM180-180h160v-160H180v160Zm440 0h160v-160H620v160Z\"/>\n",
              "  </svg>\n",
              "    </button>\n",
              "\n",
              "  <style>\n",
              "    .colab-df-container {\n",
              "      display:flex;\n",
              "      gap: 12px;\n",
              "    }\n",
              "\n",
              "    .colab-df-convert {\n",
              "      background-color: #E8F0FE;\n",
              "      border: none;\n",
              "      border-radius: 50%;\n",
              "      cursor: pointer;\n",
              "      display: none;\n",
              "      fill: #1967D2;\n",
              "      height: 32px;\n",
              "      padding: 0 0 0 0;\n",
              "      width: 32px;\n",
              "    }\n",
              "\n",
              "    .colab-df-convert:hover {\n",
              "      background-color: #E2EBFA;\n",
              "      box-shadow: 0px 1px 2px rgba(60, 64, 67, 0.3), 0px 1px 3px 1px rgba(60, 64, 67, 0.15);\n",
              "      fill: #174EA6;\n",
              "    }\n",
              "\n",
              "    .colab-df-buttons div {\n",
              "      margin-bottom: 4px;\n",
              "    }\n",
              "\n",
              "    [theme=dark] .colab-df-convert {\n",
              "      background-color: #3B4455;\n",
              "      fill: #D2E3FC;\n",
              "    }\n",
              "\n",
              "    [theme=dark] .colab-df-convert:hover {\n",
              "      background-color: #434B5C;\n",
              "      box-shadow: 0px 1px 3px 1px rgba(0, 0, 0, 0.15);\n",
              "      filter: drop-shadow(0px 1px 2px rgba(0, 0, 0, 0.3));\n",
              "      fill: #FFFFFF;\n",
              "    }\n",
              "  </style>\n",
              "\n",
              "    <script>\n",
              "      const buttonEl =\n",
              "        document.querySelector('#df-b9c58e27-d7f5-40bc-a94b-ad80595674fc button.colab-df-convert');\n",
              "      buttonEl.style.display =\n",
              "        google.colab.kernel.accessAllowed ? 'block' : 'none';\n",
              "\n",
              "      async function convertToInteractive(key) {\n",
              "        const element = document.querySelector('#df-b9c58e27-d7f5-40bc-a94b-ad80595674fc');\n",
              "        const dataTable =\n",
              "          await google.colab.kernel.invokeFunction('convertToInteractive',\n",
              "                                                    [key], {});\n",
              "        if (!dataTable) return;\n",
              "\n",
              "        const docLinkHtml = 'Like what you see? Visit the ' +\n",
              "          '<a target=\"_blank\" href=https://colab.research.google.com/notebooks/data_table.ipynb>data table notebook</a>'\n",
              "          + ' to learn more about interactive tables.';\n",
              "        element.innerHTML = '';\n",
              "        dataTable['output_type'] = 'display_data';\n",
              "        await google.colab.output.renderOutput(dataTable, element);\n",
              "        const docLink = document.createElement('div');\n",
              "        docLink.innerHTML = docLinkHtml;\n",
              "        element.appendChild(docLink);\n",
              "      }\n",
              "    </script>\n",
              "  </div>\n",
              "\n",
              "\n",
              "<div id=\"df-dede3199-0644-4da9-b9c7-7f5a01a68552\">\n",
              "  <button class=\"colab-df-quickchart\" onclick=\"quickchart('df-dede3199-0644-4da9-b9c7-7f5a01a68552')\"\n",
              "            title=\"Suggest charts\"\n",
              "            style=\"display:none;\">\n",
              "\n",
              "<svg xmlns=\"http://www.w3.org/2000/svg\" height=\"24px\"viewBox=\"0 0 24 24\"\n",
              "     width=\"24px\">\n",
              "    <g>\n",
              "        <path d=\"M19 3H5c-1.1 0-2 .9-2 2v14c0 1.1.9 2 2 2h14c1.1 0 2-.9 2-2V5c0-1.1-.9-2-2-2zM9 17H7v-7h2v7zm4 0h-2V7h2v10zm4 0h-2v-4h2v4z\"/>\n",
              "    </g>\n",
              "</svg>\n",
              "  </button>\n",
              "\n",
              "<style>\n",
              "  .colab-df-quickchart {\n",
              "      --bg-color: #E8F0FE;\n",
              "      --fill-color: #1967D2;\n",
              "      --hover-bg-color: #E2EBFA;\n",
              "      --hover-fill-color: #174EA6;\n",
              "      --disabled-fill-color: #AAA;\n",
              "      --disabled-bg-color: #DDD;\n",
              "  }\n",
              "\n",
              "  [theme=dark] .colab-df-quickchart {\n",
              "      --bg-color: #3B4455;\n",
              "      --fill-color: #D2E3FC;\n",
              "      --hover-bg-color: #434B5C;\n",
              "      --hover-fill-color: #FFFFFF;\n",
              "      --disabled-bg-color: #3B4455;\n",
              "      --disabled-fill-color: #666;\n",
              "  }\n",
              "\n",
              "  .colab-df-quickchart {\n",
              "    background-color: var(--bg-color);\n",
              "    border: none;\n",
              "    border-radius: 50%;\n",
              "    cursor: pointer;\n",
              "    display: none;\n",
              "    fill: var(--fill-color);\n",
              "    height: 32px;\n",
              "    padding: 0;\n",
              "    width: 32px;\n",
              "  }\n",
              "\n",
              "  .colab-df-quickchart:hover {\n",
              "    background-color: var(--hover-bg-color);\n",
              "    box-shadow: 0 1px 2px rgba(60, 64, 67, 0.3), 0 1px 3px 1px rgba(60, 64, 67, 0.15);\n",
              "    fill: var(--button-hover-fill-color);\n",
              "  }\n",
              "\n",
              "  .colab-df-quickchart-complete:disabled,\n",
              "  .colab-df-quickchart-complete:disabled:hover {\n",
              "    background-color: var(--disabled-bg-color);\n",
              "    fill: var(--disabled-fill-color);\n",
              "    box-shadow: none;\n",
              "  }\n",
              "\n",
              "  .colab-df-spinner {\n",
              "    border: 2px solid var(--fill-color);\n",
              "    border-color: transparent;\n",
              "    border-bottom-color: var(--fill-color);\n",
              "    animation:\n",
              "      spin 1s steps(1) infinite;\n",
              "  }\n",
              "\n",
              "  @keyframes spin {\n",
              "    0% {\n",
              "      border-color: transparent;\n",
              "      border-bottom-color: var(--fill-color);\n",
              "      border-left-color: var(--fill-color);\n",
              "    }\n",
              "    20% {\n",
              "      border-color: transparent;\n",
              "      border-left-color: var(--fill-color);\n",
              "      border-top-color: var(--fill-color);\n",
              "    }\n",
              "    30% {\n",
              "      border-color: transparent;\n",
              "      border-left-color: var(--fill-color);\n",
              "      border-top-color: var(--fill-color);\n",
              "      border-right-color: var(--fill-color);\n",
              "    }\n",
              "    40% {\n",
              "      border-color: transparent;\n",
              "      border-right-color: var(--fill-color);\n",
              "      border-top-color: var(--fill-color);\n",
              "    }\n",
              "    60% {\n",
              "      border-color: transparent;\n",
              "      border-right-color: var(--fill-color);\n",
              "    }\n",
              "    80% {\n",
              "      border-color: transparent;\n",
              "      border-right-color: var(--fill-color);\n",
              "      border-bottom-color: var(--fill-color);\n",
              "    }\n",
              "    90% {\n",
              "      border-color: transparent;\n",
              "      border-bottom-color: var(--fill-color);\n",
              "    }\n",
              "  }\n",
              "</style>\n",
              "\n",
              "  <script>\n",
              "    async function quickchart(key) {\n",
              "      const quickchartButtonEl =\n",
              "        document.querySelector('#' + key + ' button');\n",
              "      quickchartButtonEl.disabled = true;  // To prevent multiple clicks.\n",
              "      quickchartButtonEl.classList.add('colab-df-spinner');\n",
              "      try {\n",
              "        const charts = await google.colab.kernel.invokeFunction(\n",
              "            'suggestCharts', [key], {});\n",
              "      } catch (error) {\n",
              "        console.error('Error during call to suggestCharts:', error);\n",
              "      }\n",
              "      quickchartButtonEl.classList.remove('colab-df-spinner');\n",
              "      quickchartButtonEl.classList.add('colab-df-quickchart-complete');\n",
              "    }\n",
              "    (() => {\n",
              "      let quickchartButtonEl =\n",
              "        document.querySelector('#df-dede3199-0644-4da9-b9c7-7f5a01a68552 button');\n",
              "      quickchartButtonEl.style.display =\n",
              "        google.colab.kernel.accessAllowed ? 'block' : 'none';\n",
              "    })();\n",
              "  </script>\n",
              "</div>\n",
              "\n",
              "    </div>\n",
              "  </div>\n"
            ],
            "application/vnd.google.colaboratory.intrinsic+json": {
              "type": "dataframe",
              "variable_name": "resampled"
            }
          },
          "metadata": {},
          "execution_count": 73
        }
      ],
      "source": [
        "encoder = LabelEncoder()\n",
        "resampled = raw.copy()\n",
        "\n",
        "for i in raw.columns:\n",
        "  resampled[i] = encoder.fit_transform(raw[i])\n",
        "\n",
        "resampled.head(5)"
      ]
    },
    {
      "cell_type": "code",
      "execution_count": 74,
      "metadata": {
        "colab": {
          "base_uri": "https://localhost:8080/"
        },
        "id": "Br_FK4BeKi5C",
        "outputId": "93d26515-c7f7-4ef5-fb8a-f8a024108180"
      },
      "outputs": [
        {
          "output_type": "stream",
          "name": "stdout",
          "text": [
            "(13435, 34)\n"
          ]
        }
      ],
      "source": [
        "mask = resampled[\"HadHeartAttack\"] == 1\n",
        "pos = np.flatnonzero(mask)\n",
        "resampled_1 = resampled.iloc[pos]\n",
        "resampled_1.head(5)\n",
        "print(resampled_1.shape)"
      ]
    },
    {
      "cell_type": "code",
      "execution_count": 75,
      "metadata": {
        "colab": {
          "base_uri": "https://localhost:8080/"
        },
        "id": "gmluyODuLMwt",
        "outputId": "a1afe753-df00-4902-abe2-7a3a198e229f"
      },
      "outputs": [
        {
          "output_type": "stream",
          "name": "stdout",
          "text": [
            "(232587, 34)\n",
            "(13435, 34)\n"
          ]
        }
      ],
      "source": [
        "mask = resampled[\"HadHeartAttack\"] == 0\n",
        "pos = np.flatnonzero(mask)\n",
        "resampled_0 = resampled.iloc[pos]\n",
        "resampled_0.head(5)\n",
        "print(resampled_0.shape)\n",
        "resampled_0 = resampled_0.sample(n=resampled_1.shape[0], axis=0, replace=False)\n",
        "print(resampled_0.shape)"
      ]
    },
    {
      "cell_type": "code",
      "execution_count": 76,
      "metadata": {
        "colab": {
          "base_uri": "https://localhost:8080/",
          "height": 255
        },
        "id": "tNb6qM7GL6cg",
        "outputId": "6cc946a7-35a8-43f8-a065-b1c1863f7779"
      },
      "outputs": [
        {
          "output_type": "execute_result",
          "data": {
            "text/plain": [
              "        State  Sex  GeneralHealth  PhysicalHealthDays  MentalHealthDays  \\\n",
              "3948        1    1              2                   0                 0   \n",
              "107795     24    0              4                   0                 0   \n",
              "103139     23    1              2                   0                 0   \n",
              "60589      15    0              1                   6                 2   \n",
              "1151        0    0              1                   3                12   \n",
              "\n",
              "        LastCheckupTime  PhysicalActivities  SleepHours  HadHeartAttack  \\\n",
              "3948                  2                   1           5               0   \n",
              "107795                1                   1           7               0   \n",
              "103139                3                   1           5               0   \n",
              "60589                 3                   1           5               0   \n",
              "1151                  3                   1           4               0   \n",
              "\n",
              "        HadAngina  ...  HeightInMeters  WeightInKilograms   BMI  \\\n",
              "3948            0  ...              70                265  1819   \n",
              "107795          0  ...              60                153  1134   \n",
              "103139          0  ...              80                302  1813   \n",
              "60589           1  ...              39                172  2005   \n",
              "1151            0  ...              50                124  1142   \n",
              "\n",
              "        AlcoholDrinkers  HIVTesting  FluVaxLast12  PneumoVaxEver  \\\n",
              "3948                  1           0             0              0   \n",
              "107795                1           0             1              0   \n",
              "103139                1           0             0              0   \n",
              "60589                 0           0             1              1   \n",
              "1151                  0           0             1              1   \n",
              "\n",
              "        TetanusLast10Tdap  HighRiskLastYear  CovidPos  \n",
              "3948                    1                 0         2  \n",
              "107795                  2                 0         2  \n",
              "103139                  1                 0         0  \n",
              "60589                   1                 0         2  \n",
              "1151                    2                 0         2  \n",
              "\n",
              "[5 rows x 34 columns]"
            ],
            "text/html": [
              "\n",
              "  <div id=\"df-29991574-4ff5-4f4f-9dcc-cf377a855e70\" class=\"colab-df-container\">\n",
              "    <div>\n",
              "<style scoped>\n",
              "    .dataframe tbody tr th:only-of-type {\n",
              "        vertical-align: middle;\n",
              "    }\n",
              "\n",
              "    .dataframe tbody tr th {\n",
              "        vertical-align: top;\n",
              "    }\n",
              "\n",
              "    .dataframe thead th {\n",
              "        text-align: right;\n",
              "    }\n",
              "</style>\n",
              "<table border=\"1\" class=\"dataframe\">\n",
              "  <thead>\n",
              "    <tr style=\"text-align: right;\">\n",
              "      <th></th>\n",
              "      <th>State</th>\n",
              "      <th>Sex</th>\n",
              "      <th>GeneralHealth</th>\n",
              "      <th>PhysicalHealthDays</th>\n",
              "      <th>MentalHealthDays</th>\n",
              "      <th>LastCheckupTime</th>\n",
              "      <th>PhysicalActivities</th>\n",
              "      <th>SleepHours</th>\n",
              "      <th>HadHeartAttack</th>\n",
              "      <th>HadAngina</th>\n",
              "      <th>...</th>\n",
              "      <th>HeightInMeters</th>\n",
              "      <th>WeightInKilograms</th>\n",
              "      <th>BMI</th>\n",
              "      <th>AlcoholDrinkers</th>\n",
              "      <th>HIVTesting</th>\n",
              "      <th>FluVaxLast12</th>\n",
              "      <th>PneumoVaxEver</th>\n",
              "      <th>TetanusLast10Tdap</th>\n",
              "      <th>HighRiskLastYear</th>\n",
              "      <th>CovidPos</th>\n",
              "    </tr>\n",
              "  </thead>\n",
              "  <tbody>\n",
              "    <tr>\n",
              "      <th>3948</th>\n",
              "      <td>1</td>\n",
              "      <td>1</td>\n",
              "      <td>2</td>\n",
              "      <td>0</td>\n",
              "      <td>0</td>\n",
              "      <td>2</td>\n",
              "      <td>1</td>\n",
              "      <td>5</td>\n",
              "      <td>0</td>\n",
              "      <td>0</td>\n",
              "      <td>...</td>\n",
              "      <td>70</td>\n",
              "      <td>265</td>\n",
              "      <td>1819</td>\n",
              "      <td>1</td>\n",
              "      <td>0</td>\n",
              "      <td>0</td>\n",
              "      <td>0</td>\n",
              "      <td>1</td>\n",
              "      <td>0</td>\n",
              "      <td>2</td>\n",
              "    </tr>\n",
              "    <tr>\n",
              "      <th>107795</th>\n",
              "      <td>24</td>\n",
              "      <td>0</td>\n",
              "      <td>4</td>\n",
              "      <td>0</td>\n",
              "      <td>0</td>\n",
              "      <td>1</td>\n",
              "      <td>1</td>\n",
              "      <td>7</td>\n",
              "      <td>0</td>\n",
              "      <td>0</td>\n",
              "      <td>...</td>\n",
              "      <td>60</td>\n",
              "      <td>153</td>\n",
              "      <td>1134</td>\n",
              "      <td>1</td>\n",
              "      <td>0</td>\n",
              "      <td>1</td>\n",
              "      <td>0</td>\n",
              "      <td>2</td>\n",
              "      <td>0</td>\n",
              "      <td>2</td>\n",
              "    </tr>\n",
              "    <tr>\n",
              "      <th>103139</th>\n",
              "      <td>23</td>\n",
              "      <td>1</td>\n",
              "      <td>2</td>\n",
              "      <td>0</td>\n",
              "      <td>0</td>\n",
              "      <td>3</td>\n",
              "      <td>1</td>\n",
              "      <td>5</td>\n",
              "      <td>0</td>\n",
              "      <td>0</td>\n",
              "      <td>...</td>\n",
              "      <td>80</td>\n",
              "      <td>302</td>\n",
              "      <td>1813</td>\n",
              "      <td>1</td>\n",
              "      <td>0</td>\n",
              "      <td>0</td>\n",
              "      <td>0</td>\n",
              "      <td>1</td>\n",
              "      <td>0</td>\n",
              "      <td>0</td>\n",
              "    </tr>\n",
              "    <tr>\n",
              "      <th>60589</th>\n",
              "      <td>15</td>\n",
              "      <td>0</td>\n",
              "      <td>1</td>\n",
              "      <td>6</td>\n",
              "      <td>2</td>\n",
              "      <td>3</td>\n",
              "      <td>1</td>\n",
              "      <td>5</td>\n",
              "      <td>0</td>\n",
              "      <td>1</td>\n",
              "      <td>...</td>\n",
              "      <td>39</td>\n",
              "      <td>172</td>\n",
              "      <td>2005</td>\n",
              "      <td>0</td>\n",
              "      <td>0</td>\n",
              "      <td>1</td>\n",
              "      <td>1</td>\n",
              "      <td>1</td>\n",
              "      <td>0</td>\n",
              "      <td>2</td>\n",
              "    </tr>\n",
              "    <tr>\n",
              "      <th>1151</th>\n",
              "      <td>0</td>\n",
              "      <td>0</td>\n",
              "      <td>1</td>\n",
              "      <td>3</td>\n",
              "      <td>12</td>\n",
              "      <td>3</td>\n",
              "      <td>1</td>\n",
              "      <td>4</td>\n",
              "      <td>0</td>\n",
              "      <td>0</td>\n",
              "      <td>...</td>\n",
              "      <td>50</td>\n",
              "      <td>124</td>\n",
              "      <td>1142</td>\n",
              "      <td>0</td>\n",
              "      <td>0</td>\n",
              "      <td>1</td>\n",
              "      <td>1</td>\n",
              "      <td>2</td>\n",
              "      <td>0</td>\n",
              "      <td>2</td>\n",
              "    </tr>\n",
              "  </tbody>\n",
              "</table>\n",
              "<p>5 rows × 34 columns</p>\n",
              "</div>\n",
              "    <div class=\"colab-df-buttons\">\n",
              "\n",
              "  <div class=\"colab-df-container\">\n",
              "    <button class=\"colab-df-convert\" onclick=\"convertToInteractive('df-29991574-4ff5-4f4f-9dcc-cf377a855e70')\"\n",
              "            title=\"Convert this dataframe to an interactive table.\"\n",
              "            style=\"display:none;\">\n",
              "\n",
              "  <svg xmlns=\"http://www.w3.org/2000/svg\" height=\"24px\" viewBox=\"0 -960 960 960\">\n",
              "    <path d=\"M120-120v-720h720v720H120Zm60-500h600v-160H180v160Zm220 220h160v-160H400v160Zm0 220h160v-160H400v160ZM180-400h160v-160H180v160Zm440 0h160v-160H620v160ZM180-180h160v-160H180v160Zm440 0h160v-160H620v160Z\"/>\n",
              "  </svg>\n",
              "    </button>\n",
              "\n",
              "  <style>\n",
              "    .colab-df-container {\n",
              "      display:flex;\n",
              "      gap: 12px;\n",
              "    }\n",
              "\n",
              "    .colab-df-convert {\n",
              "      background-color: #E8F0FE;\n",
              "      border: none;\n",
              "      border-radius: 50%;\n",
              "      cursor: pointer;\n",
              "      display: none;\n",
              "      fill: #1967D2;\n",
              "      height: 32px;\n",
              "      padding: 0 0 0 0;\n",
              "      width: 32px;\n",
              "    }\n",
              "\n",
              "    .colab-df-convert:hover {\n",
              "      background-color: #E2EBFA;\n",
              "      box-shadow: 0px 1px 2px rgba(60, 64, 67, 0.3), 0px 1px 3px 1px rgba(60, 64, 67, 0.15);\n",
              "      fill: #174EA6;\n",
              "    }\n",
              "\n",
              "    .colab-df-buttons div {\n",
              "      margin-bottom: 4px;\n",
              "    }\n",
              "\n",
              "    [theme=dark] .colab-df-convert {\n",
              "      background-color: #3B4455;\n",
              "      fill: #D2E3FC;\n",
              "    }\n",
              "\n",
              "    [theme=dark] .colab-df-convert:hover {\n",
              "      background-color: #434B5C;\n",
              "      box-shadow: 0px 1px 3px 1px rgba(0, 0, 0, 0.15);\n",
              "      filter: drop-shadow(0px 1px 2px rgba(0, 0, 0, 0.3));\n",
              "      fill: #FFFFFF;\n",
              "    }\n",
              "  </style>\n",
              "\n",
              "    <script>\n",
              "      const buttonEl =\n",
              "        document.querySelector('#df-29991574-4ff5-4f4f-9dcc-cf377a855e70 button.colab-df-convert');\n",
              "      buttonEl.style.display =\n",
              "        google.colab.kernel.accessAllowed ? 'block' : 'none';\n",
              "\n",
              "      async function convertToInteractive(key) {\n",
              "        const element = document.querySelector('#df-29991574-4ff5-4f4f-9dcc-cf377a855e70');\n",
              "        const dataTable =\n",
              "          await google.colab.kernel.invokeFunction('convertToInteractive',\n",
              "                                                    [key], {});\n",
              "        if (!dataTable) return;\n",
              "\n",
              "        const docLinkHtml = 'Like what you see? Visit the ' +\n",
              "          '<a target=\"_blank\" href=https://colab.research.google.com/notebooks/data_table.ipynb>data table notebook</a>'\n",
              "          + ' to learn more about interactive tables.';\n",
              "        element.innerHTML = '';\n",
              "        dataTable['output_type'] = 'display_data';\n",
              "        await google.colab.output.renderOutput(dataTable, element);\n",
              "        const docLink = document.createElement('div');\n",
              "        docLink.innerHTML = docLinkHtml;\n",
              "        element.appendChild(docLink);\n",
              "      }\n",
              "    </script>\n",
              "  </div>\n",
              "\n",
              "\n",
              "<div id=\"df-1392b744-82f0-4917-bdc9-4ed08548bb5d\">\n",
              "  <button class=\"colab-df-quickchart\" onclick=\"quickchart('df-1392b744-82f0-4917-bdc9-4ed08548bb5d')\"\n",
              "            title=\"Suggest charts\"\n",
              "            style=\"display:none;\">\n",
              "\n",
              "<svg xmlns=\"http://www.w3.org/2000/svg\" height=\"24px\"viewBox=\"0 0 24 24\"\n",
              "     width=\"24px\">\n",
              "    <g>\n",
              "        <path d=\"M19 3H5c-1.1 0-2 .9-2 2v14c0 1.1.9 2 2 2h14c1.1 0 2-.9 2-2V5c0-1.1-.9-2-2-2zM9 17H7v-7h2v7zm4 0h-2V7h2v10zm4 0h-2v-4h2v4z\"/>\n",
              "    </g>\n",
              "</svg>\n",
              "  </button>\n",
              "\n",
              "<style>\n",
              "  .colab-df-quickchart {\n",
              "      --bg-color: #E8F0FE;\n",
              "      --fill-color: #1967D2;\n",
              "      --hover-bg-color: #E2EBFA;\n",
              "      --hover-fill-color: #174EA6;\n",
              "      --disabled-fill-color: #AAA;\n",
              "      --disabled-bg-color: #DDD;\n",
              "  }\n",
              "\n",
              "  [theme=dark] .colab-df-quickchart {\n",
              "      --bg-color: #3B4455;\n",
              "      --fill-color: #D2E3FC;\n",
              "      --hover-bg-color: #434B5C;\n",
              "      --hover-fill-color: #FFFFFF;\n",
              "      --disabled-bg-color: #3B4455;\n",
              "      --disabled-fill-color: #666;\n",
              "  }\n",
              "\n",
              "  .colab-df-quickchart {\n",
              "    background-color: var(--bg-color);\n",
              "    border: none;\n",
              "    border-radius: 50%;\n",
              "    cursor: pointer;\n",
              "    display: none;\n",
              "    fill: var(--fill-color);\n",
              "    height: 32px;\n",
              "    padding: 0;\n",
              "    width: 32px;\n",
              "  }\n",
              "\n",
              "  .colab-df-quickchart:hover {\n",
              "    background-color: var(--hover-bg-color);\n",
              "    box-shadow: 0 1px 2px rgba(60, 64, 67, 0.3), 0 1px 3px 1px rgba(60, 64, 67, 0.15);\n",
              "    fill: var(--button-hover-fill-color);\n",
              "  }\n",
              "\n",
              "  .colab-df-quickchart-complete:disabled,\n",
              "  .colab-df-quickchart-complete:disabled:hover {\n",
              "    background-color: var(--disabled-bg-color);\n",
              "    fill: var(--disabled-fill-color);\n",
              "    box-shadow: none;\n",
              "  }\n",
              "\n",
              "  .colab-df-spinner {\n",
              "    border: 2px solid var(--fill-color);\n",
              "    border-color: transparent;\n",
              "    border-bottom-color: var(--fill-color);\n",
              "    animation:\n",
              "      spin 1s steps(1) infinite;\n",
              "  }\n",
              "\n",
              "  @keyframes spin {\n",
              "    0% {\n",
              "      border-color: transparent;\n",
              "      border-bottom-color: var(--fill-color);\n",
              "      border-left-color: var(--fill-color);\n",
              "    }\n",
              "    20% {\n",
              "      border-color: transparent;\n",
              "      border-left-color: var(--fill-color);\n",
              "      border-top-color: var(--fill-color);\n",
              "    }\n",
              "    30% {\n",
              "      border-color: transparent;\n",
              "      border-left-color: var(--fill-color);\n",
              "      border-top-color: var(--fill-color);\n",
              "      border-right-color: var(--fill-color);\n",
              "    }\n",
              "    40% {\n",
              "      border-color: transparent;\n",
              "      border-right-color: var(--fill-color);\n",
              "      border-top-color: var(--fill-color);\n",
              "    }\n",
              "    60% {\n",
              "      border-color: transparent;\n",
              "      border-right-color: var(--fill-color);\n",
              "    }\n",
              "    80% {\n",
              "      border-color: transparent;\n",
              "      border-right-color: var(--fill-color);\n",
              "      border-bottom-color: var(--fill-color);\n",
              "    }\n",
              "    90% {\n",
              "      border-color: transparent;\n",
              "      border-bottom-color: var(--fill-color);\n",
              "    }\n",
              "  }\n",
              "</style>\n",
              "\n",
              "  <script>\n",
              "    async function quickchart(key) {\n",
              "      const quickchartButtonEl =\n",
              "        document.querySelector('#' + key + ' button');\n",
              "      quickchartButtonEl.disabled = true;  // To prevent multiple clicks.\n",
              "      quickchartButtonEl.classList.add('colab-df-spinner');\n",
              "      try {\n",
              "        const charts = await google.colab.kernel.invokeFunction(\n",
              "            'suggestCharts', [key], {});\n",
              "      } catch (error) {\n",
              "        console.error('Error during call to suggestCharts:', error);\n",
              "      }\n",
              "      quickchartButtonEl.classList.remove('colab-df-spinner');\n",
              "      quickchartButtonEl.classList.add('colab-df-quickchart-complete');\n",
              "    }\n",
              "    (() => {\n",
              "      let quickchartButtonEl =\n",
              "        document.querySelector('#df-1392b744-82f0-4917-bdc9-4ed08548bb5d button');\n",
              "      quickchartButtonEl.style.display =\n",
              "        google.colab.kernel.accessAllowed ? 'block' : 'none';\n",
              "    })();\n",
              "  </script>\n",
              "</div>\n",
              "\n",
              "    </div>\n",
              "  </div>\n"
            ],
            "application/vnd.google.colaboratory.intrinsic+json": {
              "type": "dataframe",
              "variable_name": "resampled_0"
            }
          },
          "metadata": {},
          "execution_count": 76
        }
      ],
      "source": [
        "resampled_0.head(5)"
      ]
    },
    {
      "cell_type": "code",
      "execution_count": 77,
      "metadata": {
        "colab": {
          "base_uri": "https://localhost:8080/"
        },
        "id": "C7uURP3ML-J6",
        "outputId": "1e894935-ff9b-45b0-a228-ee058782264b"
      },
      "outputs": [
        {
          "output_type": "stream",
          "name": "stdout",
          "text": [
            "(26870, 34)\n"
          ]
        }
      ],
      "source": [
        "resampled = pandas.concat([resampled_0, resampled_1])\n",
        "print(resampled.shape)"
      ]
    },
    {
      "cell_type": "code",
      "execution_count": 78,
      "metadata": {
        "id": "9wl54R_0MKm_"
      },
      "outputs": [],
      "source": [
        "y = resampled[\"HadHeartAttack\"]\n",
        "X = resampled.drop(\"HadHeartAttack\", axis=1)\n",
        "X_train, X_test, y_train, y_test = train_test_split(X, y, train_size=0.7)"
      ]
    },
    {
      "cell_type": "code",
      "execution_count": 79,
      "metadata": {
        "id": "jj29z4rUMXwj"
      },
      "outputs": [],
      "source": [
        "ESTIMATORS = 32\n",
        "MAX_DEPTH = 5\n",
        "rf = RandomForestClassifier(n_estimators=ESTIMATORS, max_depth=MAX_DEPTH)\n",
        "rf = rf.fit(X_train, y_train)"
      ]
    },
    {
      "cell_type": "code",
      "execution_count": 80,
      "metadata": {
        "colab": {
          "base_uri": "https://localhost:8080/"
        },
        "id": "T1Gr-ZI6Ma32",
        "outputId": "e4770d26-eb94-464a-a1e7-ee169f24dd40"
      },
      "outputs": [
        {
          "output_type": "stream",
          "name": "stdout",
          "text": [
            "Train Accuracy: 0.6086447977032272\n",
            "Test Accuracy: 0.6130753008311624\n"
          ]
        }
      ],
      "source": [
        "y_predict_train_gs = gs.predict(X_train)\n",
        "y_predict_test_gs = gs.predict(X_test)\n",
        "train_accuracy_gs = accuracy_score(y_train, y_predict_train_gs)\n",
        "test_accuracy_gs = accuracy_score(y_test, y_predict_test_gs)\n",
        "print(\"Train Accuracy: \" + str(train_accuracy_gs))\n",
        "print(\"Test Accuracy: \" + str(test_accuracy_gs))"
      ]
    },
    {
      "cell_type": "code",
      "execution_count": 81,
      "metadata": {
        "id": "ZA_waZv6MlI7"
      },
      "outputs": [],
      "source": [
        "depths = [5, 7, 9, 10]\n",
        "estimators = [32, 64, 100, 128, 200]\n",
        "rf_gs = RandomForestClassifier()\n",
        "\n",
        "parameters = {\"max_depth\": depths, \"n_estimators\": estimators}\n",
        "gs = GridSearchCV(rf_gs, parameters)\n",
        "gs = gs.fit(X_train, y_train)"
      ]
    },
    {
      "cell_type": "code",
      "execution_count": 82,
      "metadata": {
        "colab": {
          "base_uri": "https://localhost:8080/"
        },
        "id": "t93HoCJ1M1XG",
        "outputId": "538a0fbe-2887-42f7-9ff1-a2e9713db78a"
      },
      "outputs": [
        {
          "output_type": "stream",
          "name": "stdout",
          "text": [
            "Train Accuracy: 0.8270508798979213\n",
            "Test Accuracy: 0.8011412976057561\n"
          ]
        }
      ],
      "source": [
        "y_predict_train_gs = gs.predict(X_train)\n",
        "y_predict_test_gs = gs.predict(X_test)\n",
        "train_accuracy_gs = accuracy_score(y_train, y_predict_train_gs)\n",
        "test_accuracy_gs = accuracy_score(y_test, y_predict_test_gs)\n",
        "print(\"Train Accuracy: \" + str(train_accuracy_gs))\n",
        "print(\"Test Accuracy: \" + str(test_accuracy_gs))"
      ]
    },
    {
      "cell_type": "code",
      "execution_count": 83,
      "metadata": {
        "colab": {
          "base_uri": "https://localhost:8080/"
        },
        "id": "DbPCdFruM4by",
        "outputId": "44f85766-0730-4562-83d4-d1682806e0af"
      },
      "outputs": [
        {
          "output_type": "stream",
          "name": "stdout",
          "text": [
            "{'max_depth': 9, 'n_estimators': 200}\n"
          ]
        }
      ],
      "source": [
        "print(gs.best_params_)"
      ]
    },
    {
      "cell_type": "code",
      "execution_count": 84,
      "metadata": {
        "colab": {
          "base_uri": "https://localhost:8080/"
        },
        "id": "o3ZnKUT4M6qy",
        "outputId": "56b743c9-3a1f-427a-8af5-424d701e26fb"
      },
      "outputs": [
        {
          "output_type": "stream",
          "name": "stdout",
          "text": [
            "{'State': 0.02933443896472454, 'Sex': 0.029637716710567474, 'GeneralHealth': 0.029688579961657524, 'PhysicalHealthDays': 0.02997865341603756, 'MentalHealthDays': 0.029337940737605095, 'LastCheckupTime': 0.029798012226819992, 'PhysicalActivities': 0.029604293406009674, 'SleepHours': 0.029379144310951233, 'HadAngina': 0.04432046413421631, 'HadStroke': 0.03100547380745411, 'HadAsthma': 0.02931283414363861, 'HadSkinCancer': 0.029328282922506332, 'HadCOPD': 0.02973254956305027, 'HadDepressiveDisorder': 0.029314551502466202, 'HadKidneyDisease': 0.02947290800511837, 'HadArthritis': 0.03066699393093586, 'HadDiabetes': 0.03073950856924057, 'DifficultyConcentrating': 0.029351145029067993, 'SmokerStatus': 0.029956335201859474, 'ECigaretteUsage': 0.02931501343846321, 'ChestScan': 0.03356216847896576, 'RaceEthnicityCategory': 0.029315264895558357, 'AgeCategory': 0.033494751900434494, 'HeightInMeters': 0.029357189312577248, 'WeightInKilograms': 0.029359055683016777, 'BMI': 0.029377546161413193, 'AlcoholDrinkers': 0.029408900067210197, 'HIVTesting': 0.02931305207312107, 'FluVaxLast12': 0.02932504005730152, 'PneumoVaxEver': 0.030266961082816124, 'TetanusLast10Tdap': 0.029322264716029167, 'HighRiskLastYear': 0.029314760118722916, 'CovidPos': 0.029308196157217026}\n"
          ]
        }
      ],
      "source": [
        "feature_imp = rf.feature_importances_\n",
        "feature_imp_sm = softmax(torch.Tensor(feature_imp), dim=0)\n",
        "mapping = {}\n",
        "for i, value in enumerate(X_train.columns):\n",
        "  mapping[value] = feature_imp_sm[i].item()\n",
        "\n",
        "print(mapping)"
      ]
    },
    {
      "cell_type": "code",
      "execution_count": 85,
      "metadata": {
        "id": "25jc08juOLsC"
      },
      "outputs": [],
      "source": [
        "estimators_2 = [50, 64, 70, 80, 90]\n",
        "rf_gs_2 = RandomForestClassifier(max_depth=7)\n",
        "\n",
        "parameters_2 = {\"n_estimators\": estimators_2}\n",
        "gs_2 = GridSearchCV(rf_gs_2, parameters_2)\n",
        "gs_2 = gs_2.fit(X_train, y_train)"
      ]
    },
    {
      "cell_type": "code",
      "execution_count": 86,
      "metadata": {
        "colab": {
          "base_uri": "https://localhost:8080/"
        },
        "id": "RnCS9-1iO8rz",
        "outputId": "029e2726-4407-4939-d0ed-e8c5fa438a5e"
      },
      "outputs": [
        {
          "output_type": "stream",
          "name": "stdout",
          "text": [
            "Train Accuracy: 0.8064756233717901\n",
            "Test Accuracy: 0.7975437290658727\n"
          ]
        }
      ],
      "source": [
        "y_predict_train_gs = gs_2.predict(X_train)\n",
        "y_predict_test_gs = gs_2.predict(X_test)\n",
        "train_accuracy_gs = accuracy_score(y_train, y_predict_train_gs)\n",
        "test_accuracy_gs = accuracy_score(y_test, y_predict_test_gs)\n",
        "print(\"Train Accuracy: \" + str(train_accuracy_gs))\n",
        "print(\"Test Accuracy: \" + str(test_accuracy_gs))"
      ]
    },
    {
      "cell_type": "code",
      "execution_count": 87,
      "metadata": {
        "colab": {
          "base_uri": "https://localhost:8080/"
        },
        "id": "fhYvUEn-Oasd",
        "outputId": "54478b9a-9d25-4eed-d26b-82314994143e"
      },
      "outputs": [
        {
          "output_type": "stream",
          "name": "stdout",
          "text": [
            "{'n_estimators': 80}\n"
          ]
        }
      ],
      "source": [
        "print(gs_2.best_params_)"
      ]
    },
    {
      "cell_type": "code",
      "execution_count": 88,
      "metadata": {
        "colab": {
          "base_uri": "https://localhost:8080/"
        },
        "id": "q8Hb5PGxQOnj",
        "outputId": "3c0ec9bc-63f4-42cf-9fac-e4bfb92d7dca"
      },
      "outputs": [
        {
          "output_type": "execute_result",
          "data": {
            "text/plain": [
              "['/content/gdrive/MyDrive/CSE 6242 Project/random_forest.joblib']"
            ]
          },
          "metadata": {},
          "execution_count": 88
        }
      ],
      "source": [
        "joblib.dump(gs_2, os.environ[\"CONFIG_DIR\"] + \"/random_forest.joblib\")"
      ]
    }
  ],
  "metadata": {
    "colab": {
      "provenance": []
    },
    "kernelspec": {
      "display_name": "Python 3",
      "name": "python3"
    },
    "language_info": {
      "name": "python"
    }
  },
  "nbformat": 4,
  "nbformat_minor": 0
}